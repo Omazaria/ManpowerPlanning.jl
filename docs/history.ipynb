{
 "cells": [
  {
   "cell_type": "markdown",
   "metadata": {},
   "source": [
    "# type History\n",
    "\n",
    "This type contains the information for all the changes of an attribute throughout a simulation run, together with their timestamps.\n",
    "\n",
    "## Fields\n",
    "\n",
    "The History type consists of the following fields:\n",
    "\n",
    "- `attribute::Symbol`, which is the attribute to which this history is linked.\n",
    "- `history::Vector{HistoryEntry}`, which contains all the changes of the value of this attribute, together with the time of change. If the history is populated using only the appropriate methods, this vector will have the entries sorted by time.\n",
    "\n",
    "## Constructor\n",
    "\n",
    "```\n",
    "History( attr::Symbol )\n",
    "```\n",
    "This creates a History object for the attribute `attr`.\n",
    "\n",
    "## Functions\n",
    "\n",
    "There is one method specific to the History type.\n",
    "\n",
    "```\n",
    "addEntry!( hist::History, timestamp::T, newState ) where T <: Real\n",
    "```\n",
    "This function adds a new entry to the history `hist` with timestamp `timestamp` and new value for the attribute `newState`. If the history already contains an entry with that timestamp, it is overwritten.\n",
    "\n",
    "Additionally, we define easy accessor functions such that we can use `hist[ t ]` to get the value of the attribute at time `t`, where we return `nothing` if `t` is smaller than the timestamp of the earliest entry, and `hist[ t ] = newState` as shorthand for `addEntry!( hist, t, newState )`.\n"
   ]
  },
  {
   "cell_type": "code",
   "execution_count": null,
   "metadata": {},
   "outputs": [],
   "source": []
  }
 ],
 "metadata": {
  "kernelspec": {
   "display_name": "Julia 0.6.0",
   "language": "julia",
   "name": "julia-0.6"
  },
  "language_info": {
   "file_extension": ".jl",
   "mimetype": "application/julia",
   "name": "julia",
   "version": "0.6.0"
  }
 },
 "nbformat": 4,
 "nbformat_minor": 2
}
