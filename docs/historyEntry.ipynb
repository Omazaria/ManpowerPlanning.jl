{
 "cells": [
  {
   "cell_type": "markdown",
   "metadata": {},
   "source": [
    "# type HistoryEntry\n",
    "\n",
    "This type contains the information for a single change in the value of an attribute during a simulation run. The information contained is the time at which the change occurred, and the new value of the attribute. The attribute itself is not retained.\n",
    "\n",
    "## Fields\n",
    "\n",
    "The HistoryEntry type consists of the following fields:\n",
    "\n",
    "- `timestamp::Float64`, which denotes the simulation time the change occurred\n",
    "- `newVal`, which gives the new value of the attribute.\n",
    "\n",
    "Note that the attribute that is changed is NOT stored in the HistoryEntry object.\n",
    "\n",
    "## Constructor\n",
    "\n",
    "```\n",
    "HistoryEntry( t::T, val ) where T <: Real\n",
    "```\n",
    "This creates a HistoryEntry object with timestamp `t` and new value `val`.\n",
    "\n",
    "## Functions\n",
    "\n",
    "There are no methods specific to the HistoryEntry type. However, we do define the relation operators such that we can test the chronological order between two HistoryEvent objects, or that we can test if a HistoryEntry's timestamp occurs before, at, or after a certain timestamp.\n",
    "\n",
    "The relation operators that we define are\n",
    "```\n",
    "Base.:(==)( entryLeft::HistoryEntry, entryRight::HistoryEntry )\n",
    "Base.:(==)( entry::HistoryEntry, num::T ) where T <: Real\n",
    "Base.:(==)( num::T, entry::HistoryEntry ) where T <: Real\n",
    "```\n",
    "to test if two events happen at the same time, or if the event has a specified timestamp, and\n",
    "```\n",
    "Base.isless( entryLeft::HistoryEntry, entryRight::HistoryEntry )\n",
    "Base.isless( entry::HistoryEntry, num::T ) where T <: Real\n",
    "Base.isless( num::T, entry::HistoryEntry ) where T <: Real\n",
    "```\n",
    "to test if the first event happens before the second, or if the events happens before (or after) the specified timestamp. All the other relation operators are inferred from these two by Julia."
   ]
  },
  {
   "cell_type": "code",
   "execution_count": null,
   "metadata": {},
   "outputs": [],
   "source": []
  }
 ],
 "metadata": {
  "kernelspec": {
   "display_name": "Julia 0.6.0",
   "language": "julia",
   "name": "julia-0.6"
  },
  "language_info": {
   "file_extension": ".jl",
   "mimetype": "application/julia",
   "name": "julia",
   "version": "0.6.0"
  }
 },
 "nbformat": 4,
 "nbformat_minor": 2
}
