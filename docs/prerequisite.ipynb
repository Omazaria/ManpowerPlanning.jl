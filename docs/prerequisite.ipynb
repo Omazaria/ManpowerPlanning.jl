{
 "cells": [
  {
   "cell_type": "markdown",
   "metadata": {},
   "source": [
    "# type Prerequisite\n",
    "\n",
    "This type represents a general prerequisite that an attribute has to satisfy. These prerequisites are represented in the form\n",
    "```\n",
    "<value> <operator> <attribute>\n",
    "```\n",
    "Currently, the following operators are allowed: `==`, `!=`, `<`, `>`, `<=`, `>=`, `\\in`, `\\notin`.\n",
    "\n",
    "Some examples:\n",
    "\n",
    "1. A person's age (attribute `:age`) must be at least 30. This will be represented as `30 <= :age`.\n",
    "2. A person must have the skill (attribute `:skills`) `Helicopter mechanic`. This will be represented as `\"Helicopter mechanic\" \\in :skills`.\n",
    "\n",
    "## Fields\n",
    "\n",
    "The Prerequisite type consists of the following fields:\n",
    "\n",
    "- `prereqVar::Symbol`, the attribute that needs to be checked.\n",
    "- `prereqValue`, the value that the attribute needs to be checked against.\n",
    "- `prereqRelation::Function`, the relation that needs to be satisfied. As mentioned above, only these relations are allowed: `==`, `!=`, `<`, `>`, `<=`, `>=`, `\\in`, `\\notin`.\n",
    "\n",
    "## Constructor\n",
    "\n",
    "```\n",
    "Prerequisite( key::Symbol, value; valType::Type = String, relation::Function = == )\n",
    "```\n",
    "This creates a `Prerequisite` object representing the prerequisite `<value> <relation> <key>`. The argument `valType` is used to perform sanity checks on the arguments passed to the constructor.\n",
    "\n",
    "## Functions\n",
    "\n",
    "The Prerequisite type has the following functions which are specific to it.\n",
    "\n",
    "#### isSatisfied\n",
    "\n",
    "```\n",
    "isSatisfied( prereq::Prerequisite, person::Personnel )\n",
    "isSatisfied( prereq::Prerequisite, person::Personnel, timestamp::T ) where T <: Real\n",
    "isSatisfied( prereq::Prerequisite, dbase::PersonnelDatabase, index::DbIndexType )\n",
    "isSatisfied( prereq::Prerequisite, dbase::PersonnelDatabase, index::DbIndexType, timestamp::T ) where T <: Real\n",
    "```\n",
    "This group of functions test if a given person satisfies the given prerequisite and return `true` if the prerequisite is satisfied, `false` otherwise.\n",
    "\n",
    "In the first function, the specific person is passed as an argument, whereas in the third function, the personnel database and the index of the person (either as actual index, or as ID-key), are passed.\n",
    "\n",
    "The second and fourth functions are variants which test if the prerequisite is satisfied at the specified time. If the person's record does not contain a history for the attribute tested, these functions default to the first resp. third functions.\n",
    "\n",
    "#### countRecords\n",
    "\n",
    "```\n",
    "countRecords( dbase::PersonnelDatabase, prereq::Prerequisite )\n",
    "countRecords( dbase::PersonnelDatabase, prereq::Prerequisite, timestamp::T ) where T <: Real\n",
    "```\n",
    "This group of functions count how many records in the personnel database satisfy the prerequisite. The second function counts how many satisfied it at the given time."
   ]
  },
  {
   "cell_type": "code",
   "execution_count": null,
   "metadata": {},
   "outputs": [],
   "source": []
  }
 ],
 "metadata": {
  "kernelspec": {
   "display_name": "Julia 0.6.0",
   "language": "julia",
   "name": "julia-0.6"
  },
  "language_info": {
   "file_extension": ".jl",
   "mimetype": "application/julia",
   "name": "julia",
   "version": "0.6.0"
  }
 },
 "nbformat": 4,
 "nbformat_minor": 2
}
