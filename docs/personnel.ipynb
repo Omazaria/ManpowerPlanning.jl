{
 "cells": [
  {
   "cell_type": "markdown",
   "metadata": {
    "hideCode": true,
    "hidePrompt": true
   },
   "source": [
    "# type Personnel\n",
    "\n",
    "This type represents a personnel record.\n",
    "\n",
    "## Fields\n",
    "\n",
    "The Personnel type consists of the following field:\n",
    "\n",
    "- `persData::Dict{Symbol, Any}`, which holds the data in the personnel record. The keys of the dictionary are the attributes.\n",
    "\n",
    "## Constructor\n",
    "\n",
    "```\n",
    "Personnel( id::String = \"-----\" )\n",
    "Personnel( idKey::Symbol, id::String = \"-----\" )\n",
    "Personnel( idKey::String, id::String )\n",
    "```\n",
    "These functions create a new personnel record. The first function creates a personnel record with the attribute `:id`, and the other two with a custom named field. Note that this first attribute does not have a special status.\n",
    "\n",
    "## Functions\n",
    "\n",
    "The Personnel type has the following functions which are specific to it.\n",
    "\n",
    "#### hasAttribute\n",
    "\n",
    "```\n",
    "hasAttribute( person::Personnel, attr::AttributeType )\n",
    "```\n",
    "This function tests if the personnel record has the given attribute.\n",
    "\n",
    "#### hasHistory\n",
    "\n",
    "```\n",
    "hasHistory( person::Personnel, attr::AttributeType )\n",
    "```\n",
    "This function tests if the personnel record has a history for the given attribute. In practice, this function checks if the record has a `:history` attribute, if it's of the correct type (`Dict{Symbol, History}`), and if it has an entry with the requested key.\n",
    "\n",
    "#### removeAttribute!\n",
    "\n",
    "```\n",
    "removeAttribute!( person::Personnel, attr::AttributeType )\n",
    "```\n",
    "This function removes the given attribute from the personnel record. If the record does not have this attribute, nothing happens.\n",
    "\n",
    "#### addValue\n",
    "\n",
    "```\n",
    "addValue( person::Personnel, attr::AttributeType, value::String )\n",
    "```\n",
    "This function adds another entry to the given attribute if it has a `Vector{String}` as value type.\n",
    "\n",
    "#### Redefined Base methods\n",
    "\n",
    "In addition, we provide several accessor `Base.getindex` and `Base.setindex!` accessor functions to allow the following behaviours:\n",
    "- `person[ attr ]` to get the value of attribute `attr` in the personnel record. If this attribute doesn't exist, `nothing` is returned.\n",
    "- `person[ attrs ]` where `attrs` is of type `Array{Symbol}`. This returns a similar array of the values of all the attributes in `attrs`.\n",
    "- `person[ attr, t ]` to get the value of attribute `attr` in the personnel record. If there is no history for this attribute, it defaults to `person[ attr ]`. If there is a history for this attribute, but the earliest entry is later than `t`, nothing is returned.\n",
    "- `person[ attr ] = data` to set the value of attribute `attr` to `data`. If the attribute doesn't exist, it will be created.\n",
    "- `person[ attr, t ] = data` to set the value of attribute `attr` at time `t` to `data`. If no appropriate history exist, one will be created. Note that this does NOT create the attribute itself if it does not exist."
   ]
  },
  {
   "cell_type": "code",
   "execution_count": null,
   "metadata": {},
   "outputs": [],
   "source": []
  }
 ],
 "metadata": {
  "hide_code_all_hidden": true,
  "kernelspec": {
   "display_name": "Julia 0.6.2",
   "language": "julia",
   "name": "julia-0.6"
  },
  "language_info": {
   "file_extension": ".jl",
   "mimetype": "application/julia",
   "name": "julia",
   "version": "0.6.2"
  }
 },
 "nbformat": 4,
 "nbformat_minor": 2
}
